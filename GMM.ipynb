{
 "cells": [
  {
   "cell_type": "code",
   "execution_count": 1,
   "metadata": {},
   "outputs": [],
   "source": [
    "import matplotlib.pyplot as plt \n",
    "%matplotlib inline\n",
    "import pandas as pd"
   ]
  },
  {
   "cell_type": "markdown",
   "metadata": {},
   "source": [
    "## Loading data"
   ]
  },
  {
   "cell_type": "code",
   "execution_count": 2,
   "metadata": {},
   "outputs": [
    {
     "name": "stdout",
     "output_type": "stream",
     "text": [
      "Dataset Shape:  (78900, 36)\n",
      "Before sampling:  Attack_label\n",
      "1    0.846001\n",
      "0    0.153999\n",
      "Name: proportion, dtype: float64\n",
      "After sampling:  Attack_label\n",
      "1               0.845982\n",
      "0               0.154018\n",
      "Name: proportion, dtype: float64\n"
     ]
    }
   ],
   "source": [
    "#Loading the Dataframe\n",
    "Dataset_norm = pd.read_pickle(\"Data_te_norm.pkl\")\n",
    "Dataset_std = pd.read_pickle(\"Data_te_std.pkl\")\n",
    "Attack_label = pd.read_pickle(\"Attack_label.pkl\")\n",
    "Attack_type = pd.read_pickle(\"Attack_type.pkl\")\n",
    "\n",
    "# Working with smaller Dataset first\n",
    "from sklearn.utils.random import sample_without_replacement\n",
    "indices = sample_without_replacement(Dataset_norm.shape[0], Dataset_norm.shape[0]/2 , random_state=22)\n",
    "Dataset_norm_short = pd.DataFrame(Dataset_norm.loc[indices.tolist()])\n",
    "Dataset_std_short = pd.DataFrame(Dataset_std.loc[indices.tolist()])\n",
    "Attack_label_short = pd.DataFrame(Attack_label.loc[indices.tolist()])\n",
    "\n",
    "\n",
    "# Checking distribution before and after sampling\n",
    "print(\"Dataset Shape: \", Dataset_norm_short.shape)\n",
    "print(\"Before sampling: \", Attack_label.value_counts(normalize=True))\n",
    "print(\"After sampling: \", Attack_label_short.value_counts(normalize=True))"
   ]
  },
  {
   "cell_type": "code",
   "execution_count": 3,
   "metadata": {},
   "outputs": [
    {
     "name": "stdout",
     "output_type": "stream",
     "text": [
      "Before sampling Attack_type\n",
      "Normal                   0.153999\n",
      "DDoS_UDP                 0.091876\n",
      "DDoS_ICMP                0.089290\n",
      "Ransomware               0.069233\n",
      "DDoS_HTTP                0.066926\n",
      "SQL_injection            0.065342\n",
      "Uploading                0.065076\n",
      "DDoS_TCP                 0.064937\n",
      "Backdoor                 0.064607\n",
      "Vulnerability_scanner    0.063853\n",
      "Port_Scanning            0.063821\n",
      "XSS                      0.063701\n",
      "Password                 0.063302\n",
      "MITM                     0.007693\n",
      "Fingerprinting           0.006343\n",
      "Name: proportion, dtype: float64\n",
      "After sampling Attack_type\n",
      "1              0.312877\n",
      "5              0.197795\n",
      "4              0.193802\n",
      "6              0.154018\n",
      "2              0.134183\n",
      "3              0.007326\n",
      "Name: proportion, dtype: float64\n"
     ]
    }
   ],
   "source": [
    "# mapping and then sampling\n",
    "mapping_dict = {'DDoS_UDP': 1, 'DDoS_ICMP': 1, 'DDoS_HTTP': 1, 'DDoS_TCP': 1,\n",
    "                'Port_Scanning': 2, 'Fingerprinting': 2, 'Vulnerability_scanner': 2,\n",
    "                'MITM' : 3, 'XSS' : 4, 'SQL_injection': 4, 'Uploading':4, \n",
    "                'Backdoor': 5, 'Password': 5, 'Ransomware':5, 'Normal':6}\n",
    "temp = Attack_type.map(mapping_dict)\n",
    "Attack_type_short = pd.DataFrame(temp.loc[indices.tolist()])\n",
    "\n",
    "# Checking\n",
    "print(\"Before sampling\", Attack_type.value_counts(normalize=True))\n",
    "print(\"After sampling\", Attack_type_short.value_counts(normalize=True))"
   ]
  },
  {
   "cell_type": "markdown",
   "metadata": {},
   "source": [
    "## Sampling"
   ]
  },
  {
   "cell_type": "code",
   "execution_count": 30,
   "metadata": {},
   "outputs": [
    {
     "name": "stdout",
     "output_type": "stream",
     "text": [
      "Target Shape:  (78900, 1)\n",
      "Resampled Target Shape:  (148116, 1)\n"
     ]
    }
   ],
   "source": [
    "from imblearn.over_sampling import SMOTE\n",
    "sm = SMOTE(random_state= 22)\n",
    "Dataset_res, Target_res = sm.fit_resample(Dataset_norm_short, Attack_type_short)\n",
    "print(\"Target Shape: \", Attack_type_short.shape)\n",
    "print(\"Resampled Target Shape: \", Target_res.shape)"
   ]
  },
  {
   "cell_type": "code",
   "execution_count": 5,
   "metadata": {},
   "outputs": [
    {
     "data": {
      "text/plain": [
       "Attack_type\n",
       "1              0.166667\n",
       "2              0.166667\n",
       "3              0.166667\n",
       "4              0.166667\n",
       "5              0.166667\n",
       "6              0.166667\n",
       "Name: proportion, dtype: float64"
      ]
     },
     "execution_count": 5,
     "metadata": {},
     "output_type": "execute_result"
    }
   ],
   "source": [
    "Target_res.value_counts(normalize=True)"
   ]
  },
  {
   "cell_type": "markdown",
   "metadata": {},
   "source": [
    "nd Array Conversion"
   ]
  },
  {
   "cell_type": "code",
   "execution_count": 6,
   "metadata": {},
   "outputs": [],
   "source": [
    "X = Dataset_res.to_numpy() # 19725 sample\n",
    "Y = Target_res.to_numpy(dtype='int')"
   ]
  },
  {
   "cell_type": "markdown",
   "metadata": {},
   "source": [
    "## GMM"
   ]
  },
  {
   "cell_type": "code",
   "execution_count": 70,
   "metadata": {},
   "outputs": [
    {
     "name": "stdout",
     "output_type": "stream",
     "text": [
      "(6, 36)\n"
     ]
    }
   ],
   "source": [
    "from sklearn.mixture import GaussianMixture\n",
    "gmm = GaussianMixture(n_components=6, random_state=0, covariance_type='tied')\n",
    "gmm.fit(X)\n",
    "labels = gmm.predict(X)\n",
    "print(gmm.means_.shape)"
   ]
  },
  {
   "cell_type": "code",
   "execution_count": 71,
   "metadata": {},
   "outputs": [
    {
     "data": {
      "text/plain": [
       "(6, 36)"
      ]
     },
     "execution_count": 71,
     "metadata": {},
     "output_type": "execute_result"
    }
   ],
   "source": [
    "gmm.means_.shape"
   ]
  },
  {
   "cell_type": "code",
   "execution_count": 72,
   "metadata": {},
   "outputs": [
    {
     "data": {
      "text/plain": [
       "(36, 36)"
      ]
     },
     "execution_count": 72,
     "metadata": {},
     "output_type": "execute_result"
    }
   ],
   "source": [
    "gmm.covariances_.shape"
   ]
  },
  {
   "cell_type": "code",
   "execution_count": 73,
   "metadata": {},
   "outputs": [
    {
     "name": "stderr",
     "output_type": "stream",
     "text": [
      "/tmp/ipykernel_2269973/1342717729.py:3: UserWarning: The palette list has more values (9) than needed (6), which may not be intended.\n",
      "  axes = sns.scatterplot(x= X[: ,5], y= X[:, 6], hue= Y[:,0], palette= sns.color_palette(\"husl\", 9))\n"
     ]
    },
    {
     "data": {
      "text/plain": [
       "[]"
      ]
     },
     "execution_count": 73,
     "metadata": {},
     "output_type": "execute_result"
    },
    {
     "data": {
      "image/png": "[encoded data removed]",
      "text/plain": [
       "<Figure size 640x480 with 1 Axes>"
      ]
     },
     "metadata": {},
     "output_type": "display_data"
    }
   ],
   "source": [
    "import seaborn as sns\n",
    "import seaborn as sns\n",
    "axes = sns.scatterplot(x= X[: ,5], y= X[:, 6], hue= Y[:,0], palette= sns.color_palette(\"husl\", 9))\n",
    "axes.scatter(\n",
    "    gmm.means_[:, 5],\n",
    "    gmm.means_[:, 6],\n",
    "    marker=\"x\",\n",
    "    s=169,\n",
    "    linewidths=1,\n",
    "    color=\"r\",\n",
    "    zorder=10,\n",
    ")\n",
    "axes.plot()"
   ]
  },
  {
   "cell_type": "markdown",
   "metadata": {},
   "source": [
    "## After PCA"
   ]
  },
  {
   "cell_type": "code",
   "execution_count": 78,
   "metadata": {},
   "outputs": [],
   "source": [
    "from sklearn.decomposition import PCA\n",
    "pca = PCA(n_components=15)\n",
    "X_PCA = pca.fit_transform(X)\n",
    "\n",
    "gmm = GaussianMixture(n_components=6, random_state=0, covariance_type='tied')\n",
    "labels_PCA = gmm.fit(X_PCA).predict(X_PCA)"
   ]
  },
  {
   "cell_type": "code",
   "execution_count": 81,
   "metadata": {},
   "outputs": [
    {
     "name": "stderr",
     "output_type": "stream",
     "text": [
      "/tmp/ipykernel_2269973/653299993.py:3: UserWarning: The palette list has more values (9) than needed (6), which may not be intended.\n",
      "  axes = sns.scatterplot(x= X_PCA[: ,5], y= X_PCA[:, 3], hue =Y[:,0], palette= sns.color_palette(\"husl\", 9))\n"
     ]
    },
    {
     "data": {
      "text/plain": [
       "[]"
      ]
     },
     "execution_count": 81,
     "metadata": {},
     "output_type": "execute_result"
    },
    {
     "data": {
      "image/png": "[encoded data removed]",
      "text/plain": [
       "<Figure size 640x480 with 1 Axes>"
      ]
     },
     "metadata": {},
     "output_type": "display_data"
    }
   ],
   "source": [
    "import seaborn as sns\n",
    "import seaborn as sns\n",
    "axes = sns.scatterplot(x= X_PCA[: ,5], y= X_PCA[:, 3], hue =Y[:,0], palette= sns.color_palette(\"husl\", 9))\n",
    "#make_ellipses(gmm, axes)\n",
    "axes.scatter(\n",
    "    gmm.means_[:, 5],\n",
    "    gmm.means_[:, 3],\n",
    "    marker=\"x\",\n",
    "    s=169,\n",
    "    linewidths=1,\n",
    "    color=\"r\",\n",
    "    zorder=10\n",
    ")\n",
    "axes.plot()"
   ]
  }
 ],
 "metadata": {
  "kernelspec": {
   "display_name": "base",
   "language": "python",
   "name": "python3"
  },
  "language_info": {
   "codemirror_mode": {
    "name": "ipython",
    "version": 3
   },
   "file_extension": ".py",
   "mimetype": "text/x-python",
   "name": "python",
   "nbconvert_exporter": "python",
   "pygments_lexer": "ipython3",
   "version": "3.9.12"
  }
 },
 "nbformat": 4,
 "nbformat_minor": 2
}
