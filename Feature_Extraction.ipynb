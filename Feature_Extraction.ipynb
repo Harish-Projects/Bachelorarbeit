{
 "cells": [
  {
   "cell_type": "markdown",
   "metadata": {},
   "source": [
    "## Loading Data"
   ]
  },
  {
   "cell_type": "code",
   "execution_count": 6,
   "metadata": {},
   "outputs": [
    {
     "name": "stdout",
     "output_type": "stream",
     "text": [
      "<class 'pandas.core.frame.DataFrame'>\n",
      "RangeIndex: 157800 entries, 0 to 157799\n",
      "Data columns (total 63 columns):\n",
      " #   Column                     Non-Null Count   Dtype  \n",
      "---  ------                     --------------   -----  \n",
      " 0   frame.time                 157800 non-null  object \n",
      " 1   ip.src_host                157800 non-null  object \n",
      " 2   ip.dst_host                157800 non-null  object \n",
      " 3   arp.dst.proto_ipv4         157800 non-null  object \n",
      " 4   arp.opcode                 157800 non-null  float64\n",
      " 5   arp.hw.size                157800 non-null  float64\n",
      " 6   arp.src.proto_ipv4         157800 non-null  object \n",
      " 7   icmp.checksum              157800 non-null  float64\n",
      " 8   icmp.seq_le                157800 non-null  float64\n",
      " 9   icmp.transmit_timestamp    157800 non-null  float64\n",
      " 10  icmp.unused                157800 non-null  float64\n",
      " 11  http.file_data             157800 non-null  object \n",
      " 12  http.content_length        157800 non-null  float64\n",
      " 13  http.request.uri.query     157800 non-null  object \n",
      " 14  http.request.method        157800 non-null  object \n",
      " 15  http.referer               157800 non-null  object \n",
      " 16  http.request.full_uri      157800 non-null  object \n",
      " 17  http.request.version       157800 non-null  object \n",
      " 18  http.response              157800 non-null  float64\n",
      " 19  http.tls_port              157800 non-null  float64\n",
      " 20  tcp.ack                    157800 non-null  float64\n",
      " 21  tcp.ack_raw                157800 non-null  float64\n",
      " 22  tcp.checksum               157800 non-null  float64\n",
      " 23  tcp.connection.fin         157800 non-null  float64\n",
      " 24  tcp.connection.rst         157800 non-null  float64\n",
      " 25  tcp.connection.syn         157800 non-null  float64\n",
      " 26  tcp.connection.synack      157800 non-null  float64\n",
      " 27  tcp.dstport                157800 non-null  float64\n",
      " 28  tcp.flags                  157800 non-null  float64\n",
      " 29  tcp.flags.ack              157800 non-null  float64\n",
      " 30  tcp.len                    157800 non-null  float64\n",
      " 31  tcp.options                157800 non-null  object \n",
      " 32  tcp.payload                157800 non-null  object \n",
      " 33  tcp.seq                    157800 non-null  float64\n",
      " 34  tcp.srcport                157800 non-null  object \n",
      " 35  udp.port                   157800 non-null  float64\n",
      " 36  udp.stream                 157800 non-null  float64\n",
      " 37  udp.time_delta             157800 non-null  float64\n",
      " 38  dns.qry.name               157800 non-null  float64\n",
      " 39  dns.qry.name.len           157800 non-null  object \n",
      " 40  dns.qry.qu                 157800 non-null  float64\n",
      " 41  dns.qry.type               157800 non-null  float64\n",
      " 42  dns.retransmission         157800 non-null  float64\n",
      " 43  dns.retransmit_request     157800 non-null  float64\n",
      " 44  dns.retransmit_request_in  157800 non-null  float64\n",
      " 45  mqtt.conack.flags          157800 non-null  object \n",
      " 46  mqtt.conflag.cleansess     157800 non-null  float64\n",
      " 47  mqtt.conflags              157800 non-null  float64\n",
      " 48  mqtt.hdrflags              157800 non-null  float64\n",
      " 49  mqtt.len                   157800 non-null  float64\n",
      " 50  mqtt.msg_decoded_as        157800 non-null  float64\n",
      " 51  mqtt.msg                   157800 non-null  object \n",
      " 52  mqtt.msgtype               157800 non-null  float64\n",
      " 53  mqtt.proto_len             157800 non-null  float64\n",
      " 54  mqtt.protoname             157800 non-null  object \n",
      " 55  mqtt.topic                 157800 non-null  object \n",
      " 56  mqtt.topic_len             157800 non-null  float64\n",
      " 57  mqtt.ver                   157800 non-null  float64\n",
      " 58  mbtcp.len                  157800 non-null  float64\n",
      " 59  mbtcp.trans_id             157800 non-null  float64\n",
      " 60  mbtcp.unit_id              157800 non-null  float64\n",
      " 61  Attack_label               157800 non-null  int64  \n",
      " 62  Attack_type                157800 non-null  object \n",
      "dtypes: float64(42), int64(1), object(20)\n",
      "memory usage: 75.8+ MB\n"
     ]
    }
   ],
   "source": [
    "import pandas as pd\n",
    "Raw_Data = pd.read_csv(\"ML-EdgeIIoT-dataset.csv\", low_memory= False) \n",
    "Raw_Data.info() # 63 Features and 157800 entries"
   ]
  },
  {
   "cell_type": "markdown",
   "metadata": {},
   "source": [
    "checking NaN values"
   ]
  },
  {
   "cell_type": "code",
   "execution_count": 7,
   "metadata": {},
   "outputs": [
    {
     "name": "stdout",
     "output_type": "stream",
     "text": [
      "Number of NaN Values : []\n"
     ]
    }
   ],
   "source": [
    "print(f\"Number of NaN Values :\", Raw_Data.columns[Raw_Data.isna().any()].tolist())"
   ]
  },
  {
   "cell_type": "markdown",
   "metadata": {},
   "source": [
    "## Trivial Feature Removal "
   ]
  },
  {
   "cell_type": "markdown",
   "metadata": {},
   "source": [
    "Removing the label Feature and saving it in a pickle File <br>\n",
    "No NaN values in Dataframe so the number of sample is constant througout the preprocessing."
   ]
  },
  {
   "cell_type": "code",
   "execution_count": 8,
   "metadata": {},
   "outputs": [],
   "source": [
    "Attack_type = Raw_Data.pop('Attack_type') # removes the 'Attack_type' Features from dataframe and save it in the variable\n",
    "Attack_label = Raw_Data.pop('Attack_label') # removes the 'Attack_label' Features from dataframe and save it in the variable\n",
    "Attack_type.to_pickle(\"Attack_type.pkl\")\n",
    "Attack_label.to_pickle(\"Attack_label.pkl\")"
   ]
  },
  {
   "cell_type": "markdown",
   "metadata": {},
   "source": [
    "Features with Information of *timestamp*, *Port*, *IP-address*, *payload* can be removed. (according to Edge Dataset) "
   ]
  },
  {
   "cell_type": "code",
   "execution_count": 9,
   "metadata": {},
   "outputs": [
    {
     "name": "stdout",
     "output_type": "stream",
     "text": [
      "<class 'pandas.core.frame.DataFrame'>\n",
      "RangeIndex: 157800 entries, 0 to 157799\n",
      "Data columns (total 46 columns):\n",
      " #   Column                     Non-Null Count   Dtype  \n",
      "---  ------                     --------------   -----  \n",
      " 0   arp.opcode                 157800 non-null  float64\n",
      " 1   arp.hw.size                157800 non-null  float64\n",
      " 2   icmp.checksum              157800 non-null  float64\n",
      " 3   icmp.seq_le                157800 non-null  float64\n",
      " 4   icmp.unused                157800 non-null  float64\n",
      " 5   http.content_length        157800 non-null  float64\n",
      " 6   http.request.method        157800 non-null  object \n",
      " 7   http.referer               157800 non-null  object \n",
      " 8   http.request.version       157800 non-null  object \n",
      " 9   http.response              157800 non-null  float64\n",
      " 10  http.tls_port              157800 non-null  float64\n",
      " 11  tcp.ack                    157800 non-null  float64\n",
      " 12  tcp.ack_raw                157800 non-null  float64\n",
      " 13  tcp.checksum               157800 non-null  float64\n",
      " 14  tcp.connection.fin         157800 non-null  float64\n",
      " 15  tcp.connection.rst         157800 non-null  float64\n",
      " 16  tcp.connection.syn         157800 non-null  float64\n",
      " 17  tcp.connection.synack      157800 non-null  float64\n",
      " 18  tcp.flags                  157800 non-null  float64\n",
      " 19  tcp.flags.ack              157800 non-null  float64\n",
      " 20  tcp.len                    157800 non-null  float64\n",
      " 21  tcp.seq                    157800 non-null  float64\n",
      " 22  udp.stream                 157800 non-null  float64\n",
      " 23  udp.time_delta             157800 non-null  float64\n",
      " 24  dns.qry.name               157800 non-null  float64\n",
      " 25  dns.qry.name.len           157800 non-null  object \n",
      " 26  dns.qry.qu                 157800 non-null  float64\n",
      " 27  dns.qry.type               157800 non-null  float64\n",
      " 28  dns.retransmission         157800 non-null  float64\n",
      " 29  dns.retransmit_request     157800 non-null  float64\n",
      " 30  dns.retransmit_request_in  157800 non-null  float64\n",
      " 31  mqtt.conack.flags          157800 non-null  object \n",
      " 32  mqtt.conflag.cleansess     157800 non-null  float64\n",
      " 33  mqtt.conflags              157800 non-null  float64\n",
      " 34  mqtt.hdrflags              157800 non-null  float64\n",
      " 35  mqtt.len                   157800 non-null  float64\n",
      " 36  mqtt.msg_decoded_as        157800 non-null  float64\n",
      " 37  mqtt.msgtype               157800 non-null  float64\n",
      " 38  mqtt.proto_len             157800 non-null  float64\n",
      " 39  mqtt.protoname             157800 non-null  object \n",
      " 40  mqtt.topic                 157800 non-null  object \n",
      " 41  mqtt.topic_len             157800 non-null  float64\n",
      " 42  mqtt.ver                   157800 non-null  float64\n",
      " 43  mbtcp.len                  157800 non-null  float64\n",
      " 44  mbtcp.trans_id             157800 non-null  float64\n",
      " 45  mbtcp.unit_id              157800 non-null  float64\n",
      "dtypes: float64(39), object(7)\n",
      "memory usage: 55.4+ MB\n"
     ]
    }
   ],
   "source": [
    "Columns_to_drop = [0, 1, 2, 3, 6, 9, 11, 13, 16, 27, 31, 32, 34, 35, 51] # marked Red in Edge-pdf \n",
    "Raw_Data = Raw_Data.drop(Raw_Data.columns[Columns_to_drop], axis=1) \n",
    "Raw_Data.info()"
   ]
  },
  {
   "cell_type": "markdown",
   "metadata": {},
   "source": [
    "Feature *mqtt.proto_len* and *mqtt.protoname* are same in meaning. (one in numerics and other in string) <br>\n",
    "similarly *mqtt.topic_len* and *mqtt.topic* "
   ]
  },
  {
   "cell_type": "code",
   "execution_count": 10,
   "metadata": {},
   "outputs": [
    {
     "name": "stdout",
     "output_type": "stream",
     "text": [
      "<class 'pandas.core.frame.DataFrame'>\n",
      "RangeIndex: 157800 entries, 0 to 157799\n",
      "Data columns (total 44 columns):\n",
      " #   Column                     Non-Null Count   Dtype  \n",
      "---  ------                     --------------   -----  \n",
      " 0   arp.opcode                 157800 non-null  float64\n",
      " 1   arp.hw.size                157800 non-null  float64\n",
      " 2   icmp.checksum              157800 non-null  float64\n",
      " 3   icmp.seq_le                157800 non-null  float64\n",
      " 4   icmp.unused                157800 non-null  float64\n",
      " 5   http.content_length        157800 non-null  float64\n",
      " 6   http.request.method        157800 non-null  object \n",
      " 7   http.referer               157800 non-null  object \n",
      " 8   http.request.version       157800 non-null  object \n",
      " 9   http.response              157800 non-null  float64\n",
      " 10  http.tls_port              157800 non-null  float64\n",
      " 11  tcp.ack                    157800 non-null  float64\n",
      " 12  tcp.ack_raw                157800 non-null  float64\n",
      " 13  tcp.checksum               157800 non-null  float64\n",
      " 14  tcp.connection.fin         157800 non-null  float64\n",
      " 15  tcp.connection.rst         157800 non-null  float64\n",
      " 16  tcp.connection.syn         157800 non-null  float64\n",
      " 17  tcp.connection.synack      157800 non-null  float64\n",
      " 18  tcp.flags                  157800 non-null  float64\n",
      " 19  tcp.flags.ack              157800 non-null  float64\n",
      " 20  tcp.len                    157800 non-null  float64\n",
      " 21  tcp.seq                    157800 non-null  float64\n",
      " 22  udp.stream                 157800 non-null  float64\n",
      " 23  udp.time_delta             157800 non-null  float64\n",
      " 24  dns.qry.name               157800 non-null  float64\n",
      " 25  dns.qry.name.len           157800 non-null  object \n",
      " 26  dns.qry.qu                 157800 non-null  float64\n",
      " 27  dns.qry.type               157800 non-null  float64\n",
      " 28  dns.retransmission         157800 non-null  float64\n",
      " 29  dns.retransmit_request     157800 non-null  float64\n",
      " 30  dns.retransmit_request_in  157800 non-null  float64\n",
      " 31  mqtt.conack.flags          157800 non-null  object \n",
      " 32  mqtt.conflag.cleansess     157800 non-null  float64\n",
      " 33  mqtt.conflags              157800 non-null  float64\n",
      " 34  mqtt.hdrflags              157800 non-null  float64\n",
      " 35  mqtt.len                   157800 non-null  float64\n",
      " 36  mqtt.msg_decoded_as        157800 non-null  float64\n",
      " 37  mqtt.msgtype               157800 non-null  float64\n",
      " 38  mqtt.proto_len             157800 non-null  float64\n",
      " 39  mqtt.topic_len             157800 non-null  float64\n",
      " 40  mqtt.ver                   157800 non-null  float64\n",
      " 41  mbtcp.len                  157800 non-null  float64\n",
      " 42  mbtcp.trans_id             157800 non-null  float64\n",
      " 43  mbtcp.unit_id              157800 non-null  float64\n",
      "dtypes: float64(39), object(5)\n",
      "memory usage: 53.0+ MB\n"
     ]
    }
   ],
   "source": [
    "Columns_to_drop = [39,40] # Features with strings are removed\n",
    "Raw_Data = Raw_Data.drop(Raw_Data.columns[Columns_to_drop], axis=1) \n",
    "Raw_Data.info()"
   ]
  },
  {
   "cell_type": "markdown",
   "metadata": {},
   "source": [
    "Features with only *0* as values should be removed. <br>\n",
    "*icmp.unused*, *http.tls_port*, *dns.qry.type*, *dns.retransmit_request_in*, *mqtt.msg_decoded_as*, *mbtcp.len*, *mbtcp.trans_id*, *mbtcp.unit_id*. <br>\n",
    "!!! But should be noted for future pipeline"
   ]
  },
  {
   "cell_type": "code",
   "execution_count": 11,
   "metadata": {},
   "outputs": [
    {
     "name": "stdout",
     "output_type": "stream",
     "text": [
      "<class 'pandas.core.frame.DataFrame'>\n",
      "RangeIndex: 157800 entries, 0 to 157799\n",
      "Data columns (total 36 columns):\n",
      " #   Column                  Non-Null Count   Dtype  \n",
      "---  ------                  --------------   -----  \n",
      " 0   arp.opcode              157800 non-null  float64\n",
      " 1   arp.hw.size             157800 non-null  float64\n",
      " 2   icmp.checksum           157800 non-null  float64\n",
      " 3   icmp.seq_le             157800 non-null  float64\n",
      " 4   http.content_length     157800 non-null  float64\n",
      " 5   http.request.method     157800 non-null  object \n",
      " 6   http.referer            157800 non-null  object \n",
      " 7   http.request.version    157800 non-null  object \n",
      " 8   http.response           157800 non-null  float64\n",
      " 9   tcp.ack                 157800 non-null  float64\n",
      " 10  tcp.ack_raw             157800 non-null  float64\n",
      " 11  tcp.checksum            157800 non-null  float64\n",
      " 12  tcp.connection.fin      157800 non-null  float64\n",
      " 13  tcp.connection.rst      157800 non-null  float64\n",
      " 14  tcp.connection.syn      157800 non-null  float64\n",
      " 15  tcp.connection.synack   157800 non-null  float64\n",
      " 16  tcp.flags               157800 non-null  float64\n",
      " 17  tcp.flags.ack           157800 non-null  float64\n",
      " 18  tcp.len                 157800 non-null  float64\n",
      " 19  tcp.seq                 157800 non-null  float64\n",
      " 20  udp.stream              157800 non-null  float64\n",
      " 21  udp.time_delta          157800 non-null  float64\n",
      " 22  dns.qry.name            157800 non-null  float64\n",
      " 23  dns.qry.name.len        157800 non-null  object \n",
      " 24  dns.qry.qu              157800 non-null  float64\n",
      " 25  dns.retransmission      157800 non-null  float64\n",
      " 26  dns.retransmit_request  157800 non-null  float64\n",
      " 27  mqtt.conack.flags       157800 non-null  object \n",
      " 28  mqtt.conflag.cleansess  157800 non-null  float64\n",
      " 29  mqtt.conflags           157800 non-null  float64\n",
      " 30  mqtt.hdrflags           157800 non-null  float64\n",
      " 31  mqtt.len                157800 non-null  float64\n",
      " 32  mqtt.msgtype            157800 non-null  float64\n",
      " 33  mqtt.proto_len          157800 non-null  float64\n",
      " 34  mqtt.topic_len          157800 non-null  float64\n",
      " 35  mqtt.ver                157800 non-null  float64\n",
      "dtypes: float64(31), object(5)\n",
      "memory usage: 43.3+ MB\n"
     ]
    }
   ],
   "source": [
    "Columns_to_drop = [4, 10, 27, 30, 36, 41, 42, 43] # marked pink in file Edge-pdf\n",
    "Raw_Data = Raw_Data.drop(Raw_Data.columns[Columns_to_drop], axis=1) # In sklearn VarianceThreshhold does the same thing.  \n",
    "Raw_Data.info()"
   ]
  },
  {
   "cell_type": "markdown",
   "metadata": {},
   "source": [
    "## Encoding"
   ]
  },
  {
   "cell_type": "markdown",
   "metadata": {},
   "source": [
    "Some Features have categorical values. (*http.request.method*, *http.referer*, *http.request.version*, *dns.qry.name.len*, *mqtt.conack.flags*) <br>\n",
    "Hence Encoding is neccessary. But the above mentioned Features have values '0' and '0.0'. Eventhough both are same value because the value is in <br>\n",
    "data tpe *object*, encoding will take it as seperate values. \n",
    "Hence the mapping."
   ]
  },
  {
   "cell_type": "code",
   "execution_count": 12,
   "metadata": {},
   "outputs": [],
   "source": [
    "# function to change values of '0' to '0.0'\n",
    "def format(row_value):\n",
    "    return '0.0' if row_value == '0' else row_value\n",
    "\n",
    "Raw_Data[\"http.request.method\"] = Raw_Data[\"http.request.method\"].apply(format)\n",
    "Raw_Data['http.referer'] = Raw_Data['http.referer'].apply(format)\n",
    "Raw_Data['http.request.version'] = Raw_Data['http.request.version'].apply(format)\n",
    "Raw_Data['dns.qry.name.len'] = Raw_Data['dns.qry.name.len'].apply(format)\n",
    "Raw_Data['mqtt.conack.flags'] = Raw_Data['mqtt.conack.flags'].apply(format)\n"
   ]
  },
  {
   "cell_type": "code",
   "execution_count": 13,
   "metadata": {},
   "outputs": [
    {
     "name": "stdout",
     "output_type": "stream",
     "text": [
      "<class 'pandas.core.frame.DataFrame'>\n",
      "RangeIndex: 157800 entries, 0 to 157799\n",
      "Data columns (total 36 columns):\n",
      " #   Column                  Non-Null Count   Dtype  \n",
      "---  ------                  --------------   -----  \n",
      " 0   arp.opcode              157800 non-null  float64\n",
      " 1   arp.hw.size             157800 non-null  float64\n",
      " 2   icmp.checksum           157800 non-null  float64\n",
      " 3   icmp.seq_le             157800 non-null  float64\n",
      " 4   http.content_length     157800 non-null  float64\n",
      " 5   http.request.method     157800 non-null  object \n",
      " 6   http.referer            157800 non-null  object \n",
      " 7   http.request.version    157800 non-null  object \n",
      " 8   http.response           157800 non-null  float64\n",
      " 9   tcp.ack                 157800 non-null  float64\n",
      " 10  tcp.ack_raw             157800 non-null  float64\n",
      " 11  tcp.checksum            157800 non-null  float64\n",
      " 12  tcp.connection.fin      157800 non-null  float64\n",
      " 13  tcp.connection.rst      157800 non-null  float64\n",
      " 14  tcp.connection.syn      157800 non-null  float64\n",
      " 15  tcp.connection.synack   157800 non-null  float64\n",
      " 16  tcp.flags               157800 non-null  float64\n",
      " 17  tcp.flags.ack           157800 non-null  float64\n",
      " 18  tcp.len                 157800 non-null  float64\n",
      " 19  tcp.seq                 157800 non-null  float64\n",
      " 20  udp.stream              157800 non-null  float64\n",
      " 21  udp.time_delta          157800 non-null  float64\n",
      " 22  dns.qry.name            157800 non-null  float64\n",
      " 23  dns.qry.name.len        157800 non-null  object \n",
      " 24  dns.qry.qu              157800 non-null  float64\n",
      " 25  dns.retransmission      157800 non-null  float64\n",
      " 26  dns.retransmit_request  157800 non-null  float64\n",
      " 27  mqtt.conack.flags       157800 non-null  object \n",
      " 28  mqtt.conflag.cleansess  157800 non-null  float64\n",
      " 29  mqtt.conflags           157800 non-null  float64\n",
      " 30  mqtt.hdrflags           157800 non-null  float64\n",
      " 31  mqtt.len                157800 non-null  float64\n",
      " 32  mqtt.msgtype            157800 non-null  float64\n",
      " 33  mqtt.proto_len          157800 non-null  float64\n",
      " 34  mqtt.topic_len          157800 non-null  float64\n",
      " 35  mqtt.ver                157800 non-null  float64\n",
      "dtypes: float64(31), object(5)\n",
      "memory usage: 43.3+ MB\n"
     ]
    }
   ],
   "source": [
    "Raw_Data.info()"
   ]
  },
  {
   "cell_type": "markdown",
   "metadata": {},
   "source": [
    "Saving the Variable in pickle file for export functionality."
   ]
  },
  {
   "cell_type": "code",
   "execution_count": 14,
   "metadata": {},
   "outputs": [],
   "source": [
    "Raw_Data.to_pickle(\"Raw_Data_after_extraction.pkl\")"
   ]
  },
  {
   "cell_type": "markdown",
   "metadata": {},
   "source": [
    "Common encoding types are; <br>\n",
    "* *Label encoding* has a negative effect that it might lead to an ordinal relationship with target data, nevertheless it had been used by authors of Edge.\n",
    "* *One hot encoding* has no such negative effect as label encoding but still the number of features might increase.\n",
    "* *Target encoding* replace each unique values of the categorical features with respective mean of the target Feature values."
   ]
  },
  {
   "cell_type": "code",
   "execution_count": 15,
   "metadata": {},
   "outputs": [
    {
     "name": "stdout",
     "output_type": "stream",
     "text": [
      "<class 'pandas.core.frame.DataFrame'>\n",
      "RangeIndex: 157800 entries, 0 to 157799\n",
      "Data columns (total 55 columns):\n",
      " #   Column                                                                             Non-Null Count   Dtype  \n",
      "---  ------                                                                             --------------   -----  \n",
      " 0   http.request.method_0.0                                                            157800 non-null  float64\n",
      " 1   http.request.method_GET                                                            157800 non-null  float64\n",
      " 2   http.request.method_OPTIONS                                                        157800 non-null  float64\n",
      " 3   http.request.method_POST                                                           157800 non-null  float64\n",
      " 4   http.request.method_TRACE                                                          157800 non-null  float64\n",
      " 5   http.referer_() { _; } >_[$($())] { echo 93e4r0-CVE-2014-6278: true; echo;echo; }  157800 non-null  float64\n",
      " 6   http.referer_0.0                                                                   157800 non-null  float64\n",
      " 7   http.referer_127.0.0.1                                                             157800 non-null  float64\n",
      " 8   http.request.version_-a HTTP/1.1                                                   157800 non-null  float64\n",
      " 9   http.request.version_/etc/passwd|?data=Download HTTP/1.1                           157800 non-null  float64\n",
      " 10  http.request.version_0.0                                                           157800 non-null  float64\n",
      " 11  http.request.version_By Dr HTTP/1.1                                                157800 non-null  float64\n",
      " 12  http.request.version_HTTP/1.0                                                      157800 non-null  float64\n",
      " 13  http.request.version_HTTP/1.1                                                      157800 non-null  float64\n",
      " 14  http.request.version_Src=javascript:alert('Vulnerable')><Img Src=\\\" HTTP/1.1       157800 non-null  float64\n",
      " 15  dns.qry.name.len_0.0                                                               157800 non-null  float64\n",
      " 16  dns.qry.name.len_0.debian.pool.ntp.org                                             157800 non-null  float64\n",
      " 17  dns.qry.name.len_1.0                                                               157800 non-null  float64\n",
      " 18  dns.qry.name.len_1.debian.pool.ntp.org                                             157800 non-null  float64\n",
      " 19  dns.qry.name.len_2.debian.pool.ntp.org                                             157800 non-null  float64\n",
      " 20  dns.qry.name.len_3.debian.pool.ntp.org                                             157800 non-null  float64\n",
      " 21  dns.qry.name.len__googlecast._tcp.local                                            157800 non-null  float64\n",
      " 22  mqtt.conack.flags_0.0                                                              157800 non-null  float64\n",
      " 23  mqtt.conack.flags_0x00000000                                                       157800 non-null  float64\n",
      " 24  arp.opcode                                                                         157800 non-null  float64\n",
      " 25  arp.hw.size                                                                        157800 non-null  float64\n",
      " 26  icmp.checksum                                                                      157800 non-null  float64\n",
      " 27  icmp.seq_le                                                                        157800 non-null  float64\n",
      " 28  http.content_length                                                                157800 non-null  float64\n",
      " 29  http.response                                                                      157800 non-null  float64\n",
      " 30  tcp.ack                                                                            157800 non-null  float64\n",
      " 31  tcp.ack_raw                                                                        157800 non-null  float64\n",
      " 32  tcp.checksum                                                                       157800 non-null  float64\n",
      " 33  tcp.connection.fin                                                                 157800 non-null  float64\n",
      " 34  tcp.connection.rst                                                                 157800 non-null  float64\n",
      " 35  tcp.connection.syn                                                                 157800 non-null  float64\n",
      " 36  tcp.connection.synack                                                              157800 non-null  float64\n",
      " 37  tcp.flags                                                                          157800 non-null  float64\n",
      " 38  tcp.flags.ack                                                                      157800 non-null  float64\n",
      " 39  tcp.len                                                                            157800 non-null  float64\n",
      " 40  tcp.seq                                                                            157800 non-null  float64\n",
      " 41  udp.stream                                                                         157800 non-null  float64\n",
      " 42  udp.time_delta                                                                     157800 non-null  float64\n",
      " 43  dns.qry.name                                                                       157800 non-null  float64\n",
      " 44  dns.qry.qu                                                                         157800 non-null  float64\n",
      " 45  dns.retransmission                                                                 157800 non-null  float64\n",
      " 46  dns.retransmit_request                                                             157800 non-null  float64\n",
      " 47  mqtt.conflag.cleansess                                                             157800 non-null  float64\n",
      " 48  mqtt.conflags                                                                      157800 non-null  float64\n",
      " 49  mqtt.hdrflags                                                                      157800 non-null  float64\n",
      " 50  mqtt.len                                                                           157800 non-null  float64\n",
      " 51  mqtt.msgtype                                                                       157800 non-null  float64\n",
      " 52  mqtt.proto_len                                                                     157800 non-null  float64\n",
      " 53  mqtt.topic_len                                                                     157800 non-null  float64\n",
      " 54  mqtt.ver                                                                           157800 non-null  float64\n",
      "dtypes: float64(55)\n",
      "memory usage: 66.2 MB\n"
     ]
    }
   ],
   "source": [
    "from sklearn.compose import make_column_transformer # for multiple column transformation\n",
    "# One hot encoder have option of 'drop' parameter. This will be initalised with 'first' or 'if_binary' to drop first encoded columns\n",
    "# because it is otherwise highly correalted. however if we are having an idea of using Regularisation this is not needed.\n",
    "from sklearn.preprocessing import OneHotEncoder\n",
    "transformer = make_column_transformer( (OneHotEncoder(), ['http.request.method', 'http.referer', 'http.request.version', 'dns.qry.name.len', 'mqtt.conack.flags']), remainder='passthrough', verbose_feature_names_out= False)\n",
    "transformed = transformer.fit_transform(Raw_Data)\n",
    "Data_ohe = pd.DataFrame(data=transformed, columns=transformer.get_feature_names_out())\n",
    "Data_ohe.info() "
   ]
  },
  {
   "cell_type": "markdown",
   "metadata": {},
   "source": [
    "Saving the one hot encoded Variable in pickle file for export functionality."
   ]
  },
  {
   "cell_type": "code",
   "execution_count": 16,
   "metadata": {},
   "outputs": [],
   "source": [
    "Data_ohe.to_pickle(\"Data_ohe.pkl\")"
   ]
  },
  {
   "cell_type": "code",
   "execution_count": 18,
   "metadata": {},
   "outputs": [
    {
     "name": "stdout",
     "output_type": "stream",
     "text": [
      "<class 'pandas.core.frame.DataFrame'>\n",
      "RangeIndex: 157800 entries, 0 to 157799\n",
      "Data columns (total 36 columns):\n",
      " #   Column                  Non-Null Count   Dtype  \n",
      "---  ------                  --------------   -----  \n",
      " 0   arp.opcode              157800 non-null  float64\n",
      " 1   arp.hw.size             157800 non-null  float64\n",
      " 2   icmp.checksum           157800 non-null  float64\n",
      " 3   icmp.seq_le             157800 non-null  float64\n",
      " 4   http.content_length     157800 non-null  float64\n",
      " 5   http.request.method     157800 non-null  float64\n",
      " 6   http.referer            157800 non-null  float64\n",
      " 7   http.request.version    157800 non-null  float64\n",
      " 8   http.response           157800 non-null  float64\n",
      " 9   tcp.ack                 157800 non-null  float64\n",
      " 10  tcp.ack_raw             157800 non-null  float64\n",
      " 11  tcp.checksum            157800 non-null  float64\n",
      " 12  tcp.connection.fin      157800 non-null  float64\n",
      " 13  tcp.connection.rst      157800 non-null  float64\n",
      " 14  tcp.connection.syn      157800 non-null  float64\n",
      " 15  tcp.connection.synack   157800 non-null  float64\n",
      " 16  tcp.flags               157800 non-null  float64\n",
      " 17  tcp.flags.ack           157800 non-null  float64\n",
      " 18  tcp.len                 157800 non-null  float64\n",
      " 19  tcp.seq                 157800 non-null  float64\n",
      " 20  udp.stream              157800 non-null  float64\n",
      " 21  udp.time_delta          157800 non-null  float64\n",
      " 22  dns.qry.name            157800 non-null  float64\n",
      " 23  dns.qry.name.len        157800 non-null  float64\n",
      " 24  dns.qry.qu              157800 non-null  float64\n",
      " 25  dns.retransmission      157800 non-null  float64\n",
      " 26  dns.retransmit_request  157800 non-null  float64\n",
      " 27  mqtt.conack.flags       157800 non-null  float64\n",
      " 28  mqtt.conflag.cleansess  157800 non-null  float64\n",
      " 29  mqtt.conflags           157800 non-null  float64\n",
      " 30  mqtt.hdrflags           157800 non-null  float64\n",
      " 31  mqtt.len                157800 non-null  float64\n",
      " 32  mqtt.msgtype            157800 non-null  float64\n",
      " 33  mqtt.proto_len          157800 non-null  float64\n",
      " 34  mqtt.topic_len          157800 non-null  float64\n",
      " 35  mqtt.ver                157800 non-null  float64\n",
      "dtypes: float64(36)\n",
      "memory usage: 43.3 MB\n"
     ]
    }
   ],
   "source": [
    "# Target Encoding\n",
    "from sklearn.preprocessing import TargetEncoder\n",
    "\n",
    "Input = Raw_Data.loc[:, ['http.request.method', 'http.referer', 'http.request.version', 'dns.qry.name.len', 'mqtt.conack.flags']]\n",
    "Target = Attack_label\n",
    "T_encoder = TargetEncoder(target_type=\"binary\")\n",
    "Input_encoded = T_encoder.fit_transform(Input, Target)\n",
    "Data_tar = Raw_Data.copy()\n",
    "columns_to_replace = ['http.request.method', 'http.referer', 'http.request.version', 'dns.qry.name.len', 'mqtt.conack.flags']\n",
    "Data_tar[columns_to_replace] = pd.DataFrame(data=Input_encoded, columns=T_encoder.get_feature_names_out())\n",
    "Data_tar.info() \n"
   ]
  },
  {
   "cell_type": "markdown",
   "metadata": {},
   "source": [
    "Saving the Target encoded Variable in pickle file for export functionality."
   ]
  },
  {
   "cell_type": "code",
   "execution_count": 19,
   "metadata": {},
   "outputs": [],
   "source": [
    "Data_tar.to_pickle(\"Data_tar_enc.pkl\")"
   ]
  },
  {
   "cell_type": "markdown",
   "metadata": {},
   "source": [
    "***"
   ]
  },
  {
   "cell_type": "markdown",
   "metadata": {},
   "source": [
    "## Conclusion"
   ]
  },
  {
   "cell_type": "markdown",
   "metadata": {},
   "source": [
    "In this File the Dataset from Edge Dataset for shallow ML is loaded in pandas dataframe. First the types of attacks as a Series are stored in a pickle file.<br>\n",
    "Then Unwanted Features according to Edge Authors are first removed, accompanied by removal of redundant Features and lastly features with constant value as 0.<br>\n",
    "<br>\n",
    "Left with several categorical features. They are encoded with two techniques, namely one hot encoding and Target encoding. **Eventhough the Edge authors used label<br>\n",
    "encoding for their ML analysis, here it is avoided because of the number of Features would increase rapidly. The impact of this will be seen in the model**<br>\n",
    "<br>\n",
    "**Further to be noted is One hot encoding the estimator with attribute 'drop' is avoided. why? see above. But impact of this should be noted too.**<br>"
   ]
  },
  {
   "cell_type": "markdown",
   "metadata": {},
   "source": [
    "\"Attack_type.pkl\" => Series with Attack types<br>\n",
    "\"Attack_label.pkl\" => Series with Attack label<br>\n",
    "\"Raw_Data_after_extraction.pkl\" => Data after all unwanted Feature Removal<br>\n",
    "\"Data_ohe.pkl\" => One hot encoded Data<br>\n",
    "\"Data_tar_enc.pkl\" => Target encoded Data<br>"
   ]
  }
 ],
 "metadata": {
  "kernelspec": {
   "display_name": "Bachelorarbeit",
   "language": "python",
   "name": "python3"
  },
  "language_info": {
   "codemirror_mode": {
    "name": "ipython",
    "version": 3
   },
   "file_extension": ".py",
   "mimetype": "text/x-python",
   "name": "python",
   "nbconvert_exporter": "python",
   "pygments_lexer": "ipython3",
   "version": "3.9.12"
  }
 },
 "nbformat": 4,
 "nbformat_minor": 2
}
